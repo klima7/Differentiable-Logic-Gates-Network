{
 "cells": [
  {
   "attachments": {},
   "cell_type": "markdown",
   "metadata": {
    "pycharm": {
     "name": "#%% md\n"
    }
   },
   "source": [
    "# MNIST dataset"
   ]
  },
  {
   "cell_type": "code",
   "execution_count": 14,
   "metadata": {
    "pycharm": {
     "name": "#%%\n"
    }
   },
   "outputs": [],
   "source": [
    "import numpy as np\n",
    "import tensorflow as tf\n",
    "import tensorflow.keras as keras\n",
    "import tensorflow.keras.layers as tf_layers\n",
    "from tensorflow.keras.datasets.mnist import load_data as load_data_MNIST\n",
    "from einops import rearrange\n",
    "\n",
    "import dgates"
   ]
  },
  {
   "cell_type": "markdown",
   "metadata": {
    "collapsed": false,
    "pycharm": {
     "name": "#%% md\n"
    }
   },
   "source": [
    "## Loading data"
   ]
  },
  {
   "cell_type": "code",
   "execution_count": 2,
   "metadata": {
    "pycharm": {
     "name": "#%%\n"
    }
   },
   "outputs": [],
   "source": [
    "(x_train, y_train), (x_test, y_test) = load_data_MNIST()\n",
    "\n",
    "x_train = rearrange(x_train, 'i h w -> i (h w)')\n",
    "x_test = rearrange(x_test, 'i h w -> i (h w)')\n",
    "\n",
    "features = x_test > 100\n",
    "outputs = (y_test == 5).reshape(-1, 1)"
   ]
  },
  {
   "cell_type": "markdown",
   "metadata": {
    "collapsed": false,
    "pycharm": {
     "name": "#%% md\n"
    }
   },
   "source": [
    "## Diff Gates"
   ]
  },
  {
   "cell_type": "code",
   "execution_count": 6,
   "metadata": {
    "collapsed": false,
    "pycharm": {
     "name": "#%%\n"
    }
   },
   "outputs": [],
   "source": [
    "network = dgates.Network(784, [40, 50, 50, 40, 1], connections_rate=5)"
   ]
  },
  {
   "cell_type": "code",
   "execution_count": 7,
   "metadata": {
    "collapsed": false,
    "pycharm": {
     "name": "#%%\n"
    }
   },
   "outputs": [
    {
     "name": "stderr",
     "output_type": "stream",
     "text": [
      "Predicting: 100%|██████████| 10000/10000 [01:37<00:00, 102.14it/s]"
     ]
    },
    {
     "name": "stdout",
     "output_type": "stream",
     "text": [
      "Loss: 0.251 Accuracy: 0.089\n"
     ]
    },
    {
     "name": "stderr",
     "output_type": "stream",
     "text": [
      "\n"
     ]
    }
   ],
   "source": [
    "loss, accuracy = network.evaluate_real(features, outputs)\n",
    "print(f'Loss: {loss:.3f} Accuracy: {accuracy:.3f}')"
   ]
  },
  {
   "cell_type": "code",
   "execution_count": 8,
   "metadata": {
    "collapsed": false,
    "pycharm": {
     "name": "#%%\n"
    }
   },
   "outputs": [
    {
     "name": "stderr",
     "output_type": "stream",
     "text": [
      "Predicting: 100%|██████████| 10000/10000 [00:03<00:00, 3017.22it/s]"
     ]
    },
    {
     "name": "stdout",
     "output_type": "stream",
     "text": [
      "Loss: 0.903 Accuracy: 0.097\n"
     ]
    },
    {
     "name": "stderr",
     "output_type": "stream",
     "text": [
      "\n"
     ]
    }
   ],
   "source": [
    "loss, accuracy = network.evaluate_boolean(features, outputs)\n",
    "print(f'Loss: {loss:.3f} Accuracy: {accuracy:.3f}')"
   ]
  },
  {
   "cell_type": "code",
   "execution_count": 12,
   "metadata": {
    "collapsed": false,
    "pycharm": {
     "name": "#%%\n"
    }
   },
   "outputs": [
    {
     "name": "stderr",
     "output_type": "stream",
     "text": [
      "Epoch   1: 100%|██████████| 10000/10000 [10:48<00:00, 15.43it/s]\n"
     ]
    }
   ],
   "source": [
    "network.fit(features, outputs, epochs=1, learning_rate=0.1)"
   ]
  },
  {
   "cell_type": "code",
   "execution_count": 14,
   "metadata": {
    "collapsed": false,
    "pycharm": {
     "name": "#%%\n"
    }
   },
   "outputs": [
    {
     "name": "stderr",
     "output_type": "stream",
     "text": [
      "Predicting: 100%|██████████| 10000/10000 [01:39<00:00, 100.74it/s]"
     ]
    },
    {
     "name": "stdout",
     "output_type": "stream",
     "text": [
      "Loss: 0.081 Accuracy: 0.911\n"
     ]
    },
    {
     "name": "stderr",
     "output_type": "stream",
     "text": [
      "\n"
     ]
    }
   ],
   "source": [
    "loss, accuracy = network.evaluate_real(features, outputs)\n",
    "print(f'Loss: {loss:.3f} Accuracy: {accuracy:.3f}')"
   ]
  },
  {
   "cell_type": "code",
   "execution_count": 13,
   "metadata": {
    "collapsed": false,
    "pycharm": {
     "name": "#%%\n"
    }
   },
   "outputs": [
    {
     "name": "stderr",
     "output_type": "stream",
     "text": [
      "Predicting: 100%|██████████| 10000/10000 [00:03<00:00, 2969.71it/s]"
     ]
    },
    {
     "name": "stdout",
     "output_type": "stream",
     "text": [
      "Loss: 0.089 Accuracy: 0.911\n"
     ]
    },
    {
     "name": "stderr",
     "output_type": "stream",
     "text": [
      "\n"
     ]
    }
   ],
   "source": [
    "loss, accuracy = network.evaluate_boolean(features, outputs)\n",
    "print(f'Loss: {loss:.3f} Accuracy: {accuracy:.3f}')"
   ]
  },
  {
   "cell_type": "markdown",
   "metadata": {
    "collapsed": false,
    "pycharm": {
     "name": "#%% md\n"
    }
   },
   "source": [
    "## Gates"
   ]
  },
  {
   "cell_type": "code",
   "execution_count": 3,
   "metadata": {
    "pycharm": {
     "name": "#%%\n"
    }
   },
   "outputs": [],
   "source": [
    "from gates import gates\n",
    "from gates import optimizers as gates_optimizers\n",
    "from gates.optimizers import genetic as gates_genetic"
   ]
  },
  {
   "cell_type": "code",
   "execution_count": 9,
   "metadata": {
    "collapsed": false,
    "pycharm": {
     "name": "#%%\n"
    }
   },
   "outputs": [],
   "source": [
    "network = gates.Network(784, [40, 50, 50, 40, 1])"
   ]
  },
  {
   "cell_type": "code",
   "execution_count": 10,
   "metadata": {
    "collapsed": false,
    "pycharm": {
     "name": "#%%\n"
    }
   },
   "outputs": [
    {
     "name": "stdout",
     "output_type": "stream",
     "text": [
      "Optimizing 905 parameters\n"
     ]
    },
    {
     "name": "stderr",
     "output_type": "stream",
     "text": [
      "Evolution:  10%|█         | 10/100 [02:41<24:09, 16.10s/it, fitness: 11.210762331838565, mse: 0.089, accuracy: 0.911]\n"
     ]
    }
   ],
   "source": [
    "optimizer = gates_optimizers.GeneticOptimizer(\n",
    "    fitness=gates_genetic.LowestMseFitness(),\n",
    "    crossing=gates_genetic.MultiPointCrossing(4),\n",
    "    mutation=gates_genetic.NRandomChangesMutation(6),\n",
    "    selection=gates_genetic.RouletteWheelSelection(),\n",
    "    cross_prob=0.7,\n",
    "    mutate_prob=0.2,\n",
    "    n_chromosomes=20,\n",
    "    n_generations=100,\n",
    "    n_elite=2,\n",
    "    patience=10,\n",
    ")\n",
    "\n",
    "optimizer.optimize(network, features, outputs)"
   ]
  },
  {
   "cell_type": "code",
   "execution_count": 11,
   "metadata": {
    "collapsed": false,
    "pycharm": {
     "name": "#%%\n"
    }
   },
   "outputs": [
    {
     "name": "stdout",
     "output_type": "stream",
     "text": [
      "Loss: 0.089 Accuracy: 0.911\n"
     ]
    }
   ],
   "source": [
    "loss, accuracy = network.evaluate(features, outputs)\n",
    "print(f'Loss: {loss:.3f} Accuracy: {accuracy:.3f}')"
   ]
  },
  {
   "cell_type": "markdown",
   "metadata": {
    "collapsed": false,
    "pycharm": {
     "name": "#%% md\n"
    }
   },
   "source": [
    "## Neural Network"
   ]
  },
  {
   "cell_type": "code",
   "execution_count": 23,
   "metadata": {
    "collapsed": false,
    "pycharm": {
     "name": "#%%\n"
    }
   },
   "outputs": [],
   "source": [
    "network = keras.models.Sequential([\n",
    "    tf_layers.InputLayer((784,)),\n",
    "    tf_layers.Dense(40, activation='relu'),\n",
    "    tf_layers.Dense(50, activation='relu'),\n",
    "    tf_layers.Dense(50, activation='relu'),\n",
    "    tf_layers.Dense(40, activation='relu'),\n",
    "    tf_layers.Dense(1 , activation=None)\n",
    "])"
   ]
  },
  {
   "cell_type": "code",
   "execution_count": 24,
   "metadata": {
    "collapsed": false,
    "pycharm": {
     "name": "#%%\n"
    }
   },
   "outputs": [
    {
     "name": "stdout",
     "output_type": "stream",
     "text": [
      "Model: \"sequential_2\"\n",
      "_________________________________________________________________\n",
      " Layer (type)                Output Shape              Param #   \n",
      "=================================================================\n",
      " dense_10 (Dense)            (None, 40)                31400     \n",
      "                                                                 \n",
      " dense_11 (Dense)            (None, 50)                2050      \n",
      "                                                                 \n",
      " dense_12 (Dense)            (None, 50)                2550      \n",
      "                                                                 \n",
      " dense_13 (Dense)            (None, 40)                2040      \n",
      "                                                                 \n",
      " dense_14 (Dense)            (None, 1)                 41        \n",
      "                                                                 \n",
      "=================================================================\n",
      "Total params: 38,081\n",
      "Trainable params: 38,081\n",
      "Non-trainable params: 0\n",
      "_________________________________________________________________\n"
     ]
    }
   ],
   "source": [
    "network.summary()"
   ]
  },
  {
   "cell_type": "code",
   "execution_count": 25,
   "metadata": {
    "pycharm": {
     "name": "#%%\n"
    }
   },
   "outputs": [],
   "source": [
    "network.compile(optimizer='adam', loss='mse', metrics=['binary_accuracy'])"
   ]
  },
  {
   "cell_type": "code",
   "execution_count": 26,
   "metadata": {
    "pycharm": {
     "name": "#%%\n"
    }
   },
   "outputs": [
    {
     "name": "stdout",
     "output_type": "stream",
     "text": [
      "Epoch 1/10\n",
      "10000/10000 [==============================] - 10s 1ms/step - loss: 0.0279 - binary_accuracy: 0.9672 - val_loss: 0.0140 - val_binary_accuracy: 0.9854\n",
      "Epoch 2/10\n",
      "10000/10000 [==============================] - 10s 1ms/step - loss: 0.0143 - binary_accuracy: 0.9853 - val_loss: 0.0146 - val_binary_accuracy: 0.9857\n",
      "Epoch 3/10\n",
      "10000/10000 [==============================] - 10s 1ms/step - loss: 0.0107 - binary_accuracy: 0.9875 - val_loss: 0.0052 - val_binary_accuracy: 0.9947\n",
      "Epoch 4/10\n",
      "10000/10000 [==============================] - 10s 1ms/step - loss: 0.0073 - binary_accuracy: 0.9913 - val_loss: 0.0044 - val_binary_accuracy: 0.9950\n",
      "Epoch 5/10\n",
      "10000/10000 [==============================] - 10s 1ms/step - loss: 0.0058 - binary_accuracy: 0.9937 - val_loss: 0.0051 - val_binary_accuracy: 0.9939\n",
      "Epoch 6/10\n",
      "10000/10000 [==============================] - 10s 1ms/step - loss: 0.0062 - binary_accuracy: 0.9931 - val_loss: 0.0046 - val_binary_accuracy: 0.9949\n",
      "Epoch 7/10\n",
      "10000/10000 [==============================] - 10s 1ms/step - loss: 0.0052 - binary_accuracy: 0.9944 - val_loss: 0.0036 - val_binary_accuracy: 0.9963\n",
      "Epoch 8/10\n",
      "10000/10000 [==============================] - 10s 1ms/step - loss: 0.0048 - binary_accuracy: 0.9944 - val_loss: 0.0056 - val_binary_accuracy: 0.9940\n",
      "Epoch 9/10\n",
      "10000/10000 [==============================] - 10s 1ms/step - loss: 0.0052 - binary_accuracy: 0.9943 - val_loss: 0.0042 - val_binary_accuracy: 0.9945\n",
      "Epoch 10/10\n",
      "10000/10000 [==============================] - 10s 1ms/step - loss: 0.0036 - binary_accuracy: 0.9960 - val_loss: 0.0024 - val_binary_accuracy: 0.9975\n"
     ]
    },
    {
     "data": {
      "text/plain": [
       "<keras.callbacks.History at 0x1884195e400>"
      ]
     },
     "execution_count": 26,
     "metadata": {},
     "output_type": "execute_result"
    }
   ],
   "source": [
    "network.fit(\n",
    "    features,\n",
    "    outputs,\n",
    "    validation_data=(features, outputs),\n",
    "    epochs=10,\n",
    "    batch_size=1,\n",
    ")"
   ]
  },
  {
   "cell_type": "code",
   "execution_count": 27,
   "metadata": {
    "pycharm": {
     "name": "#%%\n"
    }
   },
   "outputs": [
    {
     "name": "stdout",
     "output_type": "stream",
     "text": [
      "Loss: 0.002 Accuracy: 0.998\n"
     ]
    }
   ],
   "source": [
    "loss, accuracy = network.evaluate(features, outputs, verbose=0)\n",
    "print(f'Loss: {loss:.3f} Accuracy: {accuracy:.3f}')"
   ]
  }
 ],
 "metadata": {
  "kernelspec": {
   "display_name": "base",
   "language": "python",
   "name": "python3"
  },
  "language_info": {
   "codemirror_mode": {
    "name": "ipython",
    "version": 3
   },
   "file_extension": ".py",
   "mimetype": "text/x-python",
   "name": "python",
   "nbconvert_exporter": "python",
   "pygments_lexer": "ipython3",
   "version": "3.9.12"
  },
  "orig_nbformat": 4,
  "vscode": {
   "interpreter": {
    "hash": "776f41de3c35c4232e8cdffd7fe524836acd31342a15f9670dfe84d93d7eae81"
   }
  }
 },
 "nbformat": 4,
 "nbformat_minor": 2
}
