{
 "cells": [
  {
   "cell_type": "markdown",
   "metadata": {
    "collapsed": false,
    "pycharm": {
     "name": "#%% md\n"
    }
   },
   "source": [
    "# ZOO dataset"
   ]
  },
  {
   "cell_type": "code",
   "execution_count": 2,
   "metadata": {
    "collapsed": false,
    "pycharm": {
     "name": "#%%\n"
    }
   },
   "outputs": [],
   "source": [
    "import numpy as np\n",
    "import pandas as pd\n",
    "from sklearn.preprocessing import OneHotEncoder\n",
    "\n",
    "import tensorflow as tf\n",
    "import tensorflow.keras as keras\n",
    "import tensorflow.keras.layers as tf_layers\n",
    "\n",
    "import dgates"
   ]
  },
  {
   "cell_type": "markdown",
   "metadata": {
    "collapsed": false,
    "pycharm": {
     "name": "#%% md\n"
    }
   },
   "source": [
    "## Loading data"
   ]
  },
  {
   "cell_type": "code",
   "execution_count": 3,
   "metadata": {
    "collapsed": false,
    "pycharm": {
     "name": "#%%\n"
    }
   },
   "outputs": [],
   "source": [
    "data = pd.read_csv('data/zoo.csv')"
   ]
  },
  {
   "cell_type": "code",
   "execution_count": 4,
   "metadata": {
    "collapsed": false,
    "pycharm": {
     "name": "#%%\n"
    }
   },
   "outputs": [
    {
     "data": {
      "text/html": [
       "<div>\n",
       "<style scoped>\n",
       "    .dataframe tbody tr th:only-of-type {\n",
       "        vertical-align: middle;\n",
       "    }\n",
       "\n",
       "    .dataframe tbody tr th {\n",
       "        vertical-align: top;\n",
       "    }\n",
       "\n",
       "    .dataframe thead th {\n",
       "        text-align: right;\n",
       "    }\n",
       "</style>\n",
       "<table border=\"1\" class=\"dataframe\">\n",
       "  <thead>\n",
       "    <tr style=\"text-align: right;\">\n",
       "      <th></th>\n",
       "      <th>animal_name</th>\n",
       "      <th>hair</th>\n",
       "      <th>feathers</th>\n",
       "      <th>eggs</th>\n",
       "      <th>milk</th>\n",
       "      <th>airborne</th>\n",
       "      <th>aquatic</th>\n",
       "      <th>predator</th>\n",
       "      <th>toothed</th>\n",
       "      <th>backbone</th>\n",
       "      <th>breathes</th>\n",
       "      <th>venomous</th>\n",
       "      <th>fins</th>\n",
       "      <th>legs</th>\n",
       "      <th>tail</th>\n",
       "      <th>domestic</th>\n",
       "      <th>catsize</th>\n",
       "      <th>class_type</th>\n",
       "    </tr>\n",
       "  </thead>\n",
       "  <tbody>\n",
       "    <tr>\n",
       "      <th>0</th>\n",
       "      <td>aardvark</td>\n",
       "      <td>1</td>\n",
       "      <td>0</td>\n",
       "      <td>0</td>\n",
       "      <td>1</td>\n",
       "      <td>0</td>\n",
       "      <td>0</td>\n",
       "      <td>1</td>\n",
       "      <td>1</td>\n",
       "      <td>1</td>\n",
       "      <td>1</td>\n",
       "      <td>0</td>\n",
       "      <td>0</td>\n",
       "      <td>4</td>\n",
       "      <td>0</td>\n",
       "      <td>0</td>\n",
       "      <td>1</td>\n",
       "      <td>1</td>\n",
       "    </tr>\n",
       "    <tr>\n",
       "      <th>1</th>\n",
       "      <td>antelope</td>\n",
       "      <td>1</td>\n",
       "      <td>0</td>\n",
       "      <td>0</td>\n",
       "      <td>1</td>\n",
       "      <td>0</td>\n",
       "      <td>0</td>\n",
       "      <td>0</td>\n",
       "      <td>1</td>\n",
       "      <td>1</td>\n",
       "      <td>1</td>\n",
       "      <td>0</td>\n",
       "      <td>0</td>\n",
       "      <td>4</td>\n",
       "      <td>1</td>\n",
       "      <td>0</td>\n",
       "      <td>1</td>\n",
       "      <td>1</td>\n",
       "    </tr>\n",
       "    <tr>\n",
       "      <th>2</th>\n",
       "      <td>bass</td>\n",
       "      <td>0</td>\n",
       "      <td>0</td>\n",
       "      <td>1</td>\n",
       "      <td>0</td>\n",
       "      <td>0</td>\n",
       "      <td>1</td>\n",
       "      <td>1</td>\n",
       "      <td>1</td>\n",
       "      <td>1</td>\n",
       "      <td>0</td>\n",
       "      <td>0</td>\n",
       "      <td>1</td>\n",
       "      <td>0</td>\n",
       "      <td>1</td>\n",
       "      <td>0</td>\n",
       "      <td>0</td>\n",
       "      <td>4</td>\n",
       "    </tr>\n",
       "    <tr>\n",
       "      <th>3</th>\n",
       "      <td>bear</td>\n",
       "      <td>1</td>\n",
       "      <td>0</td>\n",
       "      <td>0</td>\n",
       "      <td>1</td>\n",
       "      <td>0</td>\n",
       "      <td>0</td>\n",
       "      <td>1</td>\n",
       "      <td>1</td>\n",
       "      <td>1</td>\n",
       "      <td>1</td>\n",
       "      <td>0</td>\n",
       "      <td>0</td>\n",
       "      <td>4</td>\n",
       "      <td>0</td>\n",
       "      <td>0</td>\n",
       "      <td>1</td>\n",
       "      <td>1</td>\n",
       "    </tr>\n",
       "    <tr>\n",
       "      <th>4</th>\n",
       "      <td>boar</td>\n",
       "      <td>1</td>\n",
       "      <td>0</td>\n",
       "      <td>0</td>\n",
       "      <td>1</td>\n",
       "      <td>0</td>\n",
       "      <td>0</td>\n",
       "      <td>1</td>\n",
       "      <td>1</td>\n",
       "      <td>1</td>\n",
       "      <td>1</td>\n",
       "      <td>0</td>\n",
       "      <td>0</td>\n",
       "      <td>4</td>\n",
       "      <td>1</td>\n",
       "      <td>0</td>\n",
       "      <td>1</td>\n",
       "      <td>1</td>\n",
       "    </tr>\n",
       "    <tr>\n",
       "      <th>...</th>\n",
       "      <td>...</td>\n",
       "      <td>...</td>\n",
       "      <td>...</td>\n",
       "      <td>...</td>\n",
       "      <td>...</td>\n",
       "      <td>...</td>\n",
       "      <td>...</td>\n",
       "      <td>...</td>\n",
       "      <td>...</td>\n",
       "      <td>...</td>\n",
       "      <td>...</td>\n",
       "      <td>...</td>\n",
       "      <td>...</td>\n",
       "      <td>...</td>\n",
       "      <td>...</td>\n",
       "      <td>...</td>\n",
       "      <td>...</td>\n",
       "      <td>...</td>\n",
       "    </tr>\n",
       "    <tr>\n",
       "      <th>96</th>\n",
       "      <td>wallaby</td>\n",
       "      <td>1</td>\n",
       "      <td>0</td>\n",
       "      <td>0</td>\n",
       "      <td>1</td>\n",
       "      <td>0</td>\n",
       "      <td>0</td>\n",
       "      <td>0</td>\n",
       "      <td>1</td>\n",
       "      <td>1</td>\n",
       "      <td>1</td>\n",
       "      <td>0</td>\n",
       "      <td>0</td>\n",
       "      <td>2</td>\n",
       "      <td>1</td>\n",
       "      <td>0</td>\n",
       "      <td>1</td>\n",
       "      <td>1</td>\n",
       "    </tr>\n",
       "    <tr>\n",
       "      <th>97</th>\n",
       "      <td>wasp</td>\n",
       "      <td>1</td>\n",
       "      <td>0</td>\n",
       "      <td>1</td>\n",
       "      <td>0</td>\n",
       "      <td>1</td>\n",
       "      <td>0</td>\n",
       "      <td>0</td>\n",
       "      <td>0</td>\n",
       "      <td>0</td>\n",
       "      <td>1</td>\n",
       "      <td>1</td>\n",
       "      <td>0</td>\n",
       "      <td>6</td>\n",
       "      <td>0</td>\n",
       "      <td>0</td>\n",
       "      <td>0</td>\n",
       "      <td>6</td>\n",
       "    </tr>\n",
       "    <tr>\n",
       "      <th>98</th>\n",
       "      <td>wolf</td>\n",
       "      <td>1</td>\n",
       "      <td>0</td>\n",
       "      <td>0</td>\n",
       "      <td>1</td>\n",
       "      <td>0</td>\n",
       "      <td>0</td>\n",
       "      <td>1</td>\n",
       "      <td>1</td>\n",
       "      <td>1</td>\n",
       "      <td>1</td>\n",
       "      <td>0</td>\n",
       "      <td>0</td>\n",
       "      <td>4</td>\n",
       "      <td>1</td>\n",
       "      <td>0</td>\n",
       "      <td>1</td>\n",
       "      <td>1</td>\n",
       "    </tr>\n",
       "    <tr>\n",
       "      <th>99</th>\n",
       "      <td>worm</td>\n",
       "      <td>0</td>\n",
       "      <td>0</td>\n",
       "      <td>1</td>\n",
       "      <td>0</td>\n",
       "      <td>0</td>\n",
       "      <td>0</td>\n",
       "      <td>0</td>\n",
       "      <td>0</td>\n",
       "      <td>0</td>\n",
       "      <td>1</td>\n",
       "      <td>0</td>\n",
       "      <td>0</td>\n",
       "      <td>0</td>\n",
       "      <td>0</td>\n",
       "      <td>0</td>\n",
       "      <td>0</td>\n",
       "      <td>7</td>\n",
       "    </tr>\n",
       "    <tr>\n",
       "      <th>100</th>\n",
       "      <td>wren</td>\n",
       "      <td>0</td>\n",
       "      <td>1</td>\n",
       "      <td>1</td>\n",
       "      <td>0</td>\n",
       "      <td>1</td>\n",
       "      <td>0</td>\n",
       "      <td>0</td>\n",
       "      <td>0</td>\n",
       "      <td>1</td>\n",
       "      <td>1</td>\n",
       "      <td>0</td>\n",
       "      <td>0</td>\n",
       "      <td>2</td>\n",
       "      <td>1</td>\n",
       "      <td>0</td>\n",
       "      <td>0</td>\n",
       "      <td>2</td>\n",
       "    </tr>\n",
       "  </tbody>\n",
       "</table>\n",
       "<p>101 rows × 18 columns</p>\n",
       "</div>"
      ],
      "text/plain": [
       "    animal_name  hair  feathers  eggs  milk  airborne  aquatic  predator  \\\n",
       "0      aardvark     1         0     0     1         0        0         1   \n",
       "1      antelope     1         0     0     1         0        0         0   \n",
       "2          bass     0         0     1     0         0        1         1   \n",
       "3          bear     1         0     0     1         0        0         1   \n",
       "4          boar     1         0     0     1         0        0         1   \n",
       "..          ...   ...       ...   ...   ...       ...      ...       ...   \n",
       "96      wallaby     1         0     0     1         0        0         0   \n",
       "97         wasp     1         0     1     0         1        0         0   \n",
       "98         wolf     1         0     0     1         0        0         1   \n",
       "99         worm     0         0     1     0         0        0         0   \n",
       "100        wren     0         1     1     0         1        0         0   \n",
       "\n",
       "     toothed  backbone  breathes  venomous  fins  legs  tail  domestic  \\\n",
       "0          1         1         1         0     0     4     0         0   \n",
       "1          1         1         1         0     0     4     1         0   \n",
       "2          1         1         0         0     1     0     1         0   \n",
       "3          1         1         1         0     0     4     0         0   \n",
       "4          1         1         1         0     0     4     1         0   \n",
       "..       ...       ...       ...       ...   ...   ...   ...       ...   \n",
       "96         1         1         1         0     0     2     1         0   \n",
       "97         0         0         1         1     0     6     0         0   \n",
       "98         1         1         1         0     0     4     1         0   \n",
       "99         0         0         1         0     0     0     0         0   \n",
       "100        0         1         1         0     0     2     1         0   \n",
       "\n",
       "     catsize  class_type  \n",
       "0          1           1  \n",
       "1          1           1  \n",
       "2          0           4  \n",
       "3          1           1  \n",
       "4          1           1  \n",
       "..       ...         ...  \n",
       "96         1           1  \n",
       "97         0           6  \n",
       "98         1           1  \n",
       "99         0           7  \n",
       "100        0           2  \n",
       "\n",
       "[101 rows x 18 columns]"
      ]
     },
     "execution_count": 4,
     "metadata": {},
     "output_type": "execute_result"
    }
   ],
   "source": [
    "data"
   ]
  },
  {
   "cell_type": "code",
   "execution_count": 5,
   "metadata": {
    "collapsed": false,
    "pycharm": {
     "name": "#%%\n"
    }
   },
   "outputs": [],
   "source": [
    "legs = data['legs']\n",
    "other_features = data.drop(columns=['animal_name', 'legs', 'class_type']).to_numpy()\n",
    "legs_onehot = OneHotEncoder().fit_transform(legs.to_numpy().reshape(-1, 1)).todense()\n",
    "features = np.hstack([other_features, legs_onehot])\n",
    "features = np.array(features.astype(bool))"
   ]
  },
  {
   "cell_type": "code",
   "execution_count": 6,
   "metadata": {
    "collapsed": false,
    "pycharm": {
     "name": "#%%\n"
    }
   },
   "outputs": [],
   "source": [
    "y = data['class_type'].to_numpy()\n",
    "\n",
    "is_mammal = y == 1\n",
    "is_bird = y == 2\n",
    "is_reptile = y == 3\n",
    "is_fish = y == 4\n",
    "is_amphibian = y == 5\n",
    "is_bug = y == 6"
   ]
  },
  {
   "cell_type": "code",
   "execution_count": 7,
   "metadata": {
    "collapsed": false,
    "pycharm": {
     "name": "#%%\n"
    }
   },
   "outputs": [
    {
     "data": {
      "text/plain": [
       "array([[ True, False, False, ..., False, False, False],\n",
       "       [ True, False, False, ..., False, False, False],\n",
       "       [False, False,  True, ..., False, False, False],\n",
       "       ...,\n",
       "       [ True, False, False, ..., False, False, False],\n",
       "       [False, False,  True, ..., False, False, False],\n",
       "       [False,  True,  True, ..., False, False, False]])"
      ]
     },
     "execution_count": 7,
     "metadata": {},
     "output_type": "execute_result"
    }
   ],
   "source": [
    "features"
   ]
  },
  {
   "cell_type": "code",
   "execution_count": 8,
   "metadata": {
    "collapsed": false,
    "pycharm": {
     "name": "#%%\n"
    }
   },
   "outputs": [],
   "source": [
    "outputs = is_mammal.reshape(-1, 1)"
   ]
  },
  {
   "cell_type": "markdown",
   "metadata": {
    "collapsed": false,
    "pycharm": {
     "name": "#%% md\n"
    }
   },
   "source": [
    "## Diff Gates"
   ]
  },
  {
   "cell_type": "code",
   "execution_count": 10,
   "metadata": {
    "collapsed": false,
    "pycharm": {
     "name": "#%%\n"
    }
   },
   "outputs": [],
   "source": [
    "network = dgates.Network(21, [40, 50, 50, 40, 1], connections_rate=10)"
   ]
  },
  {
   "cell_type": "code",
   "execution_count": 11,
   "metadata": {
    "collapsed": false,
    "pycharm": {
     "name": "#%%\n"
    }
   },
   "outputs": [
    {
     "name": "stdout",
     "output_type": "stream",
     "text": [
      "Loss: 0.243 Accuracy: 0.594\n"
     ]
    }
   ],
   "source": [
    "loss, accuracy = network.evaluate_real(features, outputs)\n",
    "print(f'Loss: {loss:.3f} Accuracy: {accuracy:.3f}')"
   ]
  },
  {
   "cell_type": "code",
   "execution_count": 12,
   "metadata": {
    "collapsed": false,
    "pycharm": {
     "name": "#%%\n"
    }
   },
   "outputs": [
    {
     "name": "stdout",
     "output_type": "stream",
     "text": [
      "Loss: 0.436 Accuracy: 0.564\n"
     ]
    }
   ],
   "source": [
    "loss, accuracy = network.evaluate_boolean(features, outputs)\n",
    "print(f'Loss: {loss:.3f} Accuracy: {accuracy:.3f}')"
   ]
  },
  {
   "cell_type": "code",
   "execution_count": 13,
   "metadata": {
    "collapsed": false,
    "pycharm": {
     "name": "#%%\n"
    }
   },
   "outputs": [
    {
     "name": "stderr",
     "output_type": "stream",
     "text": [
      "Epoch   1: 100%|██████████| 101/101 [00:01<00:00, 65.80it/s]\n",
      "Epoch   2: 100%|██████████| 101/101 [00:01<00:00, 66.62it/s]\n",
      "Epoch   3: 100%|██████████| 101/101 [00:01<00:00, 66.38it/s]\n",
      "Epoch   4: 100%|██████████| 101/101 [00:01<00:00, 66.21it/s]\n",
      "Epoch   5: 100%|██████████| 101/101 [00:01<00:00, 66.28it/s]\n",
      "Epoch   6: 100%|██████████| 101/101 [00:01<00:00, 66.81it/s]\n",
      "Epoch   7: 100%|██████████| 101/101 [00:01<00:00, 67.11it/s]\n",
      "Epoch   8: 100%|██████████| 101/101 [00:01<00:00, 66.87it/s]\n",
      "Epoch   9: 100%|██████████| 101/101 [00:01<00:00, 66.79it/s]\n",
      "Epoch  10: 100%|██████████| 101/101 [00:01<00:00, 67.16it/s]\n",
      "Epoch  11: 100%|██████████| 101/101 [00:01<00:00, 66.52it/s]\n",
      "Epoch  12: 100%|██████████| 101/101 [00:01<00:00, 66.88it/s]\n",
      "Epoch  13: 100%|██████████| 101/101 [00:01<00:00, 66.23it/s]\n",
      "Epoch  14: 100%|██████████| 101/101 [00:01<00:00, 66.89it/s]\n",
      "Epoch  15: 100%|██████████| 101/101 [00:01<00:00, 66.99it/s]\n",
      "Epoch  16: 100%|██████████| 101/101 [00:01<00:00, 66.51it/s]\n",
      "Epoch  17: 100%|██████████| 101/101 [00:01<00:00, 66.54it/s]\n",
      "Epoch  18: 100%|██████████| 101/101 [00:01<00:00, 67.03it/s]\n",
      "Epoch  19: 100%|██████████| 101/101 [00:01<00:00, 67.40it/s]\n",
      "Epoch  20: 100%|██████████| 101/101 [00:01<00:00, 67.53it/s]\n",
      "Epoch  21: 100%|██████████| 101/101 [00:01<00:00, 66.85it/s]\n",
      "Epoch  22: 100%|██████████| 101/101 [00:01<00:00, 65.27it/s]\n",
      "Epoch  23: 100%|██████████| 101/101 [00:01<00:00, 67.04it/s]\n",
      "Epoch  24: 100%|██████████| 101/101 [00:01<00:00, 66.74it/s]\n",
      "Epoch  25: 100%|██████████| 101/101 [00:01<00:00, 66.23it/s]\n",
      "Epoch  26: 100%|██████████| 101/101 [00:01<00:00, 67.04it/s]\n",
      "Epoch  27: 100%|██████████| 101/101 [00:01<00:00, 66.23it/s]\n",
      "Epoch  28: 100%|██████████| 101/101 [00:01<00:00, 65.70it/s]\n",
      "Epoch  29: 100%|██████████| 101/101 [00:01<00:00, 66.19it/s]\n",
      "Epoch  30: 100%|██████████| 101/101 [00:01<00:00, 67.58it/s]\n",
      "Epoch  31: 100%|██████████| 101/101 [00:01<00:00, 67.13it/s]\n",
      "Epoch  32: 100%|██████████| 101/101 [00:01<00:00, 67.06it/s]\n",
      "Epoch  33: 100%|██████████| 101/101 [00:01<00:00, 66.67it/s]\n",
      "Epoch  34: 100%|██████████| 101/101 [00:01<00:00, 67.02it/s]\n",
      "Epoch  35: 100%|██████████| 101/101 [00:01<00:00, 67.05it/s]\n",
      "Epoch  36: 100%|██████████| 101/101 [00:01<00:00, 66.77it/s]\n",
      "Epoch  37: 100%|██████████| 101/101 [00:01<00:00, 67.27it/s]\n",
      "Epoch  38: 100%|██████████| 101/101 [00:01<00:00, 66.65it/s]\n",
      "Epoch  39: 100%|██████████| 101/101 [00:01<00:00, 66.82it/s]\n",
      "Epoch  40: 100%|██████████| 101/101 [00:01<00:00, 66.55it/s]\n",
      "Epoch  41: 100%|██████████| 101/101 [00:01<00:00, 66.81it/s]\n",
      "Epoch  42: 100%|██████████| 101/101 [00:01<00:00, 67.26it/s]\n",
      "Epoch  43: 100%|██████████| 101/101 [00:01<00:00, 67.17it/s]\n",
      "Epoch  44: 100%|██████████| 101/101 [00:01<00:00, 67.36it/s]\n",
      "Epoch  45: 100%|██████████| 101/101 [00:01<00:00, 67.37it/s]\n",
      "Epoch  46: 100%|██████████| 101/101 [00:01<00:00, 66.64it/s]\n",
      "Epoch  47: 100%|██████████| 101/101 [00:01<00:00, 67.12it/s]\n",
      "Epoch  48: 100%|██████████| 101/101 [00:01<00:00, 66.36it/s]\n",
      "Epoch  49: 100%|██████████| 101/101 [00:01<00:00, 66.84it/s]\n",
      "Epoch  50: 100%|██████████| 101/101 [00:01<00:00, 67.26it/s]\n",
      "Epoch  51: 100%|██████████| 101/101 [00:01<00:00, 66.94it/s]\n",
      "Epoch  52: 100%|██████████| 101/101 [00:01<00:00, 64.66it/s]\n",
      "Epoch  53: 100%|██████████| 101/101 [00:01<00:00, 66.49it/s]\n",
      "Epoch  54: 100%|██████████| 101/101 [00:01<00:00, 66.25it/s]\n",
      "Epoch  55: 100%|██████████| 101/101 [00:01<00:00, 66.80it/s]\n",
      "Epoch  56: 100%|██████████| 101/101 [00:01<00:00, 67.18it/s]\n",
      "Epoch  57: 100%|██████████| 101/101 [00:01<00:00, 66.13it/s]\n",
      "Epoch  58: 100%|██████████| 101/101 [00:01<00:00, 66.08it/s]\n",
      "Epoch  59: 100%|██████████| 101/101 [00:01<00:00, 66.73it/s]\n",
      "Epoch  60: 100%|██████████| 101/101 [00:01<00:00, 66.49it/s]\n",
      "Epoch  61: 100%|██████████| 101/101 [00:01<00:00, 67.03it/s]\n",
      "Epoch  62: 100%|██████████| 101/101 [00:01<00:00, 66.77it/s]\n",
      "Epoch  63: 100%|██████████| 101/101 [00:01<00:00, 66.69it/s]\n",
      "Epoch  64: 100%|██████████| 101/101 [00:01<00:00, 66.71it/s]\n",
      "Epoch  65: 100%|██████████| 101/101 [00:01<00:00, 65.89it/s]\n",
      "Epoch  66: 100%|██████████| 101/101 [00:01<00:00, 66.53it/s]\n",
      "Epoch  67: 100%|██████████| 101/101 [00:01<00:00, 66.68it/s]\n",
      "Epoch  68: 100%|██████████| 101/101 [00:01<00:00, 66.93it/s]\n",
      "Epoch  69: 100%|██████████| 101/101 [00:01<00:00, 67.13it/s]\n",
      "Epoch  70: 100%|██████████| 101/101 [00:01<00:00, 66.93it/s]\n",
      "Epoch  71: 100%|██████████| 101/101 [00:01<00:00, 66.07it/s]\n",
      "Epoch  72: 100%|██████████| 101/101 [00:01<00:00, 65.86it/s]\n",
      "Epoch  73: 100%|██████████| 101/101 [00:01<00:00, 66.64it/s]\n",
      "Epoch  74: 100%|██████████| 101/101 [00:01<00:00, 66.26it/s]\n",
      "Epoch  75: 100%|██████████| 101/101 [00:01<00:00, 66.82it/s]\n",
      "Epoch  76: 100%|██████████| 101/101 [00:01<00:00, 65.81it/s]\n",
      "Epoch  77: 100%|██████████| 101/101 [00:01<00:00, 63.54it/s]\n",
      "Epoch  78: 100%|██████████| 101/101 [00:01<00:00, 64.97it/s]\n",
      "Epoch  79: 100%|██████████| 101/101 [00:01<00:00, 67.31it/s]\n",
      "Epoch  80: 100%|██████████| 101/101 [00:01<00:00, 67.10it/s]\n",
      "Epoch  81: 100%|██████████| 101/101 [00:01<00:00, 66.71it/s]\n",
      "Epoch  82: 100%|██████████| 101/101 [00:01<00:00, 67.33it/s]\n",
      "Epoch  83: 100%|██████████| 101/101 [00:01<00:00, 65.73it/s]\n",
      "Epoch  84: 100%|██████████| 101/101 [00:01<00:00, 66.09it/s]\n",
      "Epoch  85: 100%|██████████| 101/101 [00:01<00:00, 67.08it/s]\n",
      "Epoch  86: 100%|██████████| 101/101 [00:01<00:00, 66.36it/s]\n",
      "Epoch  87: 100%|██████████| 101/101 [00:01<00:00, 66.87it/s]\n",
      "Epoch  88: 100%|██████████| 101/101 [00:01<00:00, 66.50it/s]\n",
      "Epoch  89: 100%|██████████| 101/101 [00:01<00:00, 66.12it/s]\n",
      "Epoch  90: 100%|██████████| 101/101 [00:01<00:00, 65.38it/s]\n",
      "Epoch  91: 100%|██████████| 101/101 [00:01<00:00, 66.89it/s]\n",
      "Epoch  92: 100%|██████████| 101/101 [00:01<00:00, 67.22it/s]\n",
      "Epoch  93: 100%|██████████| 101/101 [00:01<00:00, 66.70it/s]\n",
      "Epoch  94: 100%|██████████| 101/101 [00:01<00:00, 67.10it/s]\n",
      "Epoch  95: 100%|██████████| 101/101 [00:01<00:00, 66.95it/s]\n",
      "Epoch  96: 100%|██████████| 101/101 [00:01<00:00, 66.36it/s]\n",
      "Epoch  97: 100%|██████████| 101/101 [00:01<00:00, 66.02it/s]\n",
      "Epoch  98: 100%|██████████| 101/101 [00:01<00:00, 63.97it/s]\n",
      "Epoch  99: 100%|██████████| 101/101 [00:01<00:00, 66.89it/s]\n",
      "Epoch 100: 100%|██████████| 101/101 [00:01<00:00, 66.08it/s]\n"
     ]
    }
   ],
   "source": [
    "network.fit(features, is_mammal, epochs=100, learning_rate=0.1)"
   ]
  },
  {
   "cell_type": "code",
   "execution_count": 14,
   "metadata": {
    "collapsed": false,
    "pycharm": {
     "name": "#%%\n"
    }
   },
   "outputs": [
    {
     "name": "stdout",
     "output_type": "stream",
     "text": [
      "Loss: 0.002 Accuracy: 1.000\n"
     ]
    }
   ],
   "source": [
    "loss, accuracy = network.evaluate_real(features, outputs)\n",
    "print(f'Loss: {loss:.3f} Accuracy: {accuracy:.3f}')"
   ]
  },
  {
   "cell_type": "code",
   "execution_count": 15,
   "metadata": {
    "collapsed": false,
    "pycharm": {
     "name": "#%%\n"
    }
   },
   "outputs": [
    {
     "name": "stdout",
     "output_type": "stream",
     "text": [
      "Loss: 0.000 Accuracy: 1.000\n"
     ]
    }
   ],
   "source": [
    "loss, accuracy = network.evaluate_boolean(features, outputs)\n",
    "print(f'Loss: {loss:.3f} Accuracy: {accuracy:.3f}')"
   ]
  },
  {
   "cell_type": "markdown",
   "metadata": {
    "collapsed": false,
    "pycharm": {
     "name": "#%% md\n"
    }
   },
   "source": [
    "## Gates"
   ]
  },
  {
   "cell_type": "code",
   "execution_count": null,
   "metadata": {},
   "outputs": [],
   "source": [
    "from gates import gates\n",
    "from gates import optimizers as gates_optimizers\n",
    "from gates.optimizers import genetic as gates_genetic"
   ]
  },
  {
   "cell_type": "code",
   "execution_count": 24,
   "metadata": {
    "collapsed": false,
    "pycharm": {
     "name": "#%%\n"
    }
   },
   "outputs": [],
   "source": [
    "network = gates.Network(21, [40, 50, 50, 40, 1])"
   ]
  },
  {
   "cell_type": "code",
   "execution_count": 27,
   "metadata": {
    "collapsed": false,
    "pycharm": {
     "name": "#%%\n"
    }
   },
   "outputs": [
    {
     "name": "stdout",
     "output_type": "stream",
     "text": [
      "Optimizing 905 parameters\n"
     ]
    },
    {
     "name": "stderr",
     "output_type": "stream",
     "text": [
      "Evolution:  14%|█▍        | 28/200 [00:21<02:09,  1.33it/s, fitness: inf, mse: 0.000, accuracy: 1.000]              \n"
     ]
    }
   ],
   "source": [
    "optimizer = gates_optimizers.GeneticOptimizer(\n",
    "    fitness=gates_genetic.LowestMseFitness(),\n",
    "    crossing=gates_genetic.MultiPointCrossing(3),\n",
    "    mutation=gates_genetic.NRandomChangesMutation(4),\n",
    "    selection=gates_genetic.RouletteWheelSelection(),\n",
    "    cross_prob=0.7,\n",
    "    mutate_prob=0.2,\n",
    "    n_chromosomes=100,\n",
    "    n_generations=200,\n",
    "    n_elite=4,\n",
    "    patience=50,\n",
    ")\n",
    "\n",
    "optimizer.optimize(network, features, outputs)"
   ]
  },
  {
   "cell_type": "code",
   "execution_count": 28,
   "metadata": {
    "collapsed": false,
    "pycharm": {
     "name": "#%%\n"
    }
   },
   "outputs": [
    {
     "name": "stdout",
     "output_type": "stream",
     "text": [
      "Loss: 0.000 Accuracy: 1.000\n"
     ]
    }
   ],
   "source": [
    "loss, accuracy = network.evaluate(features, outputs)\n",
    "print(f'Loss: {loss:.3f} Accuracy: {accuracy:.3f}')"
   ]
  },
  {
   "cell_type": "markdown",
   "metadata": {
    "collapsed": false,
    "pycharm": {
     "name": "#%% md\n"
    }
   },
   "source": [
    "## Neural Network"
   ]
  },
  {
   "cell_type": "code",
   "execution_count": 32,
   "metadata": {
    "collapsed": false,
    "pycharm": {
     "name": "#%%\n"
    }
   },
   "outputs": [],
   "source": [
    "network = keras.models.Sequential([\n",
    "    tf_layers.InputLayer((21,)),\n",
    "    tf_layers.Dense(40, activation='relu'),\n",
    "    tf_layers.Dense(50, activation='relu'),\n",
    "    tf_layers.Dense(50, activation='relu'),\n",
    "    tf_layers.Dense(40, activation='relu'),\n",
    "    tf_layers.Dense(1 , activation=None)\n",
    "])"
   ]
  },
  {
   "cell_type": "code",
   "execution_count": 23,
   "metadata": {
    "collapsed": false,
    "pycharm": {
     "name": "#%%\n"
    }
   },
   "outputs": [
    {
     "name": "stdout",
     "output_type": "stream",
     "text": [
      "Model: \"sequential_3\"\n",
      "_________________________________________________________________\n",
      " Layer (type)                Output Shape              Param #   \n",
      "=================================================================\n",
      " dense_15 (Dense)            (None, 40)                880       \n",
      "                                                                 \n",
      " dense_16 (Dense)            (None, 50)                2050      \n",
      "                                                                 \n",
      " dense_17 (Dense)            (None, 50)                2550      \n",
      "                                                                 \n",
      " dense_18 (Dense)            (None, 40)                2040      \n",
      "                                                                 \n",
      " dense_19 (Dense)            (None, 1)                 41        \n",
      "                                                                 \n",
      "=================================================================\n",
      "Total params: 7,561\n",
      "Trainable params: 7,561\n",
      "Non-trainable params: 0\n",
      "_________________________________________________________________\n"
     ]
    }
   ],
   "source": [
    "network.summary()"
   ]
  },
  {
   "cell_type": "code",
   "execution_count": 33,
   "metadata": {},
   "outputs": [],
   "source": [
    "network.compile(optimizer='adam', loss='mse', metrics=['binary_accuracy'])"
   ]
  },
  {
   "cell_type": "code",
   "execution_count": 34,
   "metadata": {},
   "outputs": [
    {
     "name": "stdout",
     "output_type": "stream",
     "text": [
      "Epoch 1/2\n",
      "101/101 [==============================] - 0s 2ms/step - loss: 0.0837 - binary_accuracy: 0.9208 - val_loss: 0.0113 - val_binary_accuracy: 1.0000\n",
      "Epoch 2/2\n",
      "101/101 [==============================] - 0s 1ms/step - loss: 0.0072 - binary_accuracy: 1.0000 - val_loss: 0.0022 - val_binary_accuracy: 1.0000\n"
     ]
    },
    {
     "data": {
      "text/plain": [
       "<keras.callbacks.History at 0x26d62458280>"
      ]
     },
     "execution_count": 34,
     "metadata": {},
     "output_type": "execute_result"
    }
   ],
   "source": [
    "network.fit(\n",
    "    features,\n",
    "    outputs,\n",
    "    validation_data=(features, outputs),\n",
    "    epochs=2,\n",
    "    batch_size=1,\n",
    ")"
   ]
  },
  {
   "cell_type": "code",
   "execution_count": 38,
   "metadata": {},
   "outputs": [
    {
     "name": "stdout",
     "output_type": "stream",
     "text": [
      "Loss: 0.002 Accuracy: 1.000\n"
     ]
    }
   ],
   "source": [
    "loss, accuracy = network.evaluate(features, outputs, verbose=0)\n",
    "print(f'Loss: {loss:.3f} Accuracy: {accuracy:.3f}')"
   ]
  }
 ],
 "metadata": {
  "kernelspec": {
   "display_name": "base",
   "language": "python",
   "name": "python3"
  },
  "language_info": {
   "codemirror_mode": {
    "name": "ipython",
    "version": 3
   },
   "file_extension": ".py",
   "mimetype": "text/x-python",
   "name": "python",
   "nbconvert_exporter": "python",
   "pygments_lexer": "ipython3",
   "version": "3.9.12 (main, Apr  4 2022, 05:22:27) [MSC v.1916 64 bit (AMD64)]"
  },
  "vscode": {
   "interpreter": {
    "hash": "776f41de3c35c4232e8cdffd7fe524836acd31342a15f9670dfe84d93d7eae81"
   }
  }
 },
 "nbformat": 4,
 "nbformat_minor": 0
}
